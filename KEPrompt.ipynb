{
 "cells": [
  {
   "attachments": {},
   "cell_type": "markdown",
   "metadata": {},
   "source": [
    "## Test Prompting"
   ]
  },
  {
   "cell_type": "code",
   "execution_count": 1,
   "metadata": {},
   "outputs": [
    {
     "name": "stderr",
     "output_type": "stream",
     "text": [
      "[nltk_data] Downloading package punkt to /home/schoiaj/nltk_data...\n",
      "[nltk_data]   Package punkt is already up-to-date!\n",
      "[nltk_data] Downloading package stopwords to\n",
      "[nltk_data]     /home/schoiaj/nltk_data...\n",
      "[nltk_data]   Package stopwords is already up-to-date!\n"
     ]
    }
   ],
   "source": [
    "from argparse import Namespace\n",
    "\n",
    "from transformers import AutoTokenizer, AutoModelForCausalLM, AutoModelForSeq2SeqLM\n",
    "from util import freeze_module\n",
    "\n",
    "import torch\n",
    "import torch.nn.functional as F\n",
    "\n",
    "from langevin_dynamics import langevin_optimize, embedding_quantization\n",
    "from prompt_tune import init_prompt, generate_from_prompt\n",
    "from prompt_constraints import knowledge_sent_mle, dialog_response_mle\n",
    "from constraints import embedding_fluency_constraint, simplex_fluency_constraint, emb_attr_control_constraint\n",
    "from attribute_classifier.attribute_classifier_model import DoubleHeadModel\n",
    "\n",
    "%load_ext autoreload\n",
    "%autoreload 2"
   ]
  },
  {
   "cell_type": "code",
   "execution_count": 2,
   "metadata": {},
   "outputs": [],
   "source": [
    "# pretrained_model = 'gpt2-xl'\n",
    "pretrained_model = 'google/flan-t5-xl'\n",
    "# pretrained_model = 'facebook/opt-13b'\n",
    "# pretrained_model = 'facebook/opt-6.7b'\n",
    "# pretrained_model = 'facebook/opt-iml-max-1.3b'\n",
    "# pretrained_model = 'EleutherAI/gpt-j-6B'\n",
    "device = 'cuda:0'\n",
    "\n",
    "tokenizer = AutoTokenizer.from_pretrained(pretrained_model)\n",
    "\n",
    "if 't5' in pretrained_model or 't0' in pretrained_model:\n",
    "    model = AutoModelForSeq2SeqLM.from_pretrained(pretrained_model)\n",
    "    is_encoder_decoder = True\n",
    "else:\n",
    "    attribute_classifier_path = 'saved_models/gpt2-xl-sst2-pool_last-seed2022/best.pth'\n",
    "    model = DoubleHeadModel.from_pretrained(pretrained_model,\n",
    "                                            output_hidden_states=True,\n",
    "                                            resid_pdrop=0,\n",
    "                                            embd_pdrop=0,\n",
    "                                            attn_pdrop=0,\n",
    "                                            summary_first_dropout=0,\n",
    "                                            num_labels=2)\n",
    "    model.score.load_state_dict(torch.load(attribute_classifier_path))\n",
    "    # model = AutoModelForCausalLM.from_pretrained(pretrained_model)\n",
    "    is_encoder_decoder = False\n",
    "model = model.to(device)\n",
    "model.eval()\n",
    "# Freeze model weights\n",
    "freeze_module(model)\n",
    "\n",
    "# open-ended generation\n",
    "tokenizer.pad_token = tokenizer.eos_token\n",
    "model.config.pad_token_id = model.config.eos_token_id\n",
    "model.config.bos_token_id = model.config.eos_token_id"
   ]
  },
  {
   "attachments": {},
   "cell_type": "markdown",
   "metadata": {},
   "source": [
    "## Zeroshot tests"
   ]
  },
  {
   "cell_type": "code",
   "execution_count": 5,
   "metadata": {},
   "outputs": [
    {
     "name": "stdout",
     "output_type": "stream",
     "text": [
      "<pad> No</s></s></s></s></s></s>\n",
      "\n",
      "<pad> It’s impossible to say</s>\n",
      "\n",
      "<pad> No</s></s></s></s></s></s>\n",
      "\n",
      "<pad> Yes</s></s></s></s></s></s>\n",
      "\n",
      "<pad> It’s impossible to say</s>\n",
      "\n",
      "<pad> Yes</s></s></s></s></s></s>\n",
      "\n"
     ]
    }
   ],
   "source": [
    "prompt = \"{}\\n\\nBased on the paragraph above can we conclude that \\\"{}\\\"?\\n\\nOPTIONS:\\n- Yes\\n- No\\n - It’s impossible to say\"\n",
    "\n",
    "data = [\n",
    "    [\n",
    "            \"A man inspects the uniform of a figure in some East Asian country.\",\n",
    "            \"The man is sleeping\"\n",
    "        ],\n",
    "        [\n",
    "            \"An older and younger man smiling.\",\n",
    "            \"Two men are smiling and laughing at the cats playing on the floor.\"\n",
    "        ],\n",
    "        [\n",
    "            \"A black race car starts up in front of a crowd of people.\",\n",
    "            \"A man is driving down a lonely road.\"\n",
    "        ],\n",
    "        [\"A soccer game with multiple males playing.\", \"Some men are playing a sport.\"],\n",
    "        [\n",
    "            \"A smiling costumed woman is holding an umbrella.\",\n",
    "            \"A happy woman in a fairy costume holds an umbrella.\"\n",
    "        ],\n",
    "        [\n",
    "            \"Giada at Home is a television show hosted by Giada De Laurentiis. It first aired on October 18, 2008 on the Food Network. Food Network is an American basic cable and satellite televi- sion channel that is owned by Television Food Network, G.P., a joint venture and general partnership between Discovery, Inc. (which owns 70% of the network) and Tribune Media (which owns the remaining 30%).\",\n",
    "            \"Giada at Home was available on TV.\",\n",
    "            ],\n",
    "]\n",
    "text = [prompt.format(a, b) for a,b in data]\n",
    "inputs = tokenizer(text, return_tensors='pt', padding=True).to(device)\n",
    "out = model.generate(**inputs, num_beams=1, max_new_tokens=10, early_stopping=True)\n",
    "decoded = tokenizer.batch_decode(out)\n",
    "for q, a in zip(text, decoded):\n",
    "    print(a.replace(q, ''))\n",
    "    print()"
   ]
  },
  {
   "cell_type": "code",
   "execution_count": 12,
   "metadata": {},
   "outputs": [
    {
     "name": "stdout",
     "output_type": "stream",
     "text": [
      "After years of study, the Vatican’s doctrinal congregation has sent church leaders a confidential document concluding that \"sex-change\" procedures do not change a person’s gender in the eyes of the church.\n",
      "\n",
      "Write a sentence that can be logically inferred from the paragraph above, without repeating.\n"
     ]
    },
    {
     "data": {
      "text/plain": [
       "['<pad> After years of study, the Vatican’s doctrinal congregation has sent church leaders ']"
      ]
     },
     "execution_count": 12,
     "metadata": {},
     "output_type": "execute_result"
    }
   ],
   "source": [
    "prompt = \"{}\\n\\nWrite a sentence that can be logically inferred from the paragraph above, without repeating.\"\n",
    "\n",
    "par = \"\"\"After years of study, the Vatican’s doctrinal congregation has sent church leaders a confidential document concluding that \"sex-change\" procedures do not change a person’s gender in the eyes of the church.\"\"\"\n",
    "text = prompt.format(par)\n",
    "print(text)\n",
    "inputs = tokenizer(text, return_tensors='pt').to(device)\n",
    "out = model.generate(**inputs, num_beams=10, max_new_tokens=20, early_stopping=True)\n",
    "tokenizer.batch_decode(out)"
   ]
  },
  {
   "cell_type": "code",
   "execution_count": 15,
   "metadata": {},
   "outputs": [
    {
     "data": {
      "text/plain": [
       "torch.Size([1, 1, 32128])"
      ]
     },
     "execution_count": 15,
     "metadata": {},
     "output_type": "execute_result"
    }
   ],
   "source": [
    "decoder_input_ids = torch.LongTensor([[tokenizer.eos_token_id]]).to(device)\n",
    "model(**inputs, decoder_input_ids=decoder_input_ids).logits.shape"
   ]
  },
  {
   "cell_type": "code",
   "execution_count": 6,
   "metadata": {},
   "outputs": [
    {
     "data": {
      "text/plain": [
       "['<pad> A: I watch the fish, you know. Whatever I can do to keep myself occupied.']"
      ]
     },
     "execution_count": 6,
     "metadata": {},
     "output_type": "execute_result"
    }
   ],
   "source": [
    "par = \"A: so I watch the fish, you know. Whatever I can do to keep myself occupied. I like to have the TV on, because that usually keeps me, um, more occupied. It kind of takes the time away and I don’t realize, that’s really the only time I ever watch TV, is when I’m on the bike. and then usually after I’m done riding the bike, just to cool myself down, I usually take a walk, you know, and that just kind of uh, gets me, you know, to where I’m not quite as tired I guess. But it’s definitely a task. B: You think so? A: I can’t say that I really enjoy it.\"\n",
    "\n",
    "prompt = \"{}\\n\\nSummarize the dialogue above.\"\n",
    "\n",
    "text = prompt.format(par)\n",
    "inputs = tokenizer(text, return_tensors='pt').to(device)\n",
    "out = model.generate(**inputs, num_beams=5, max_new_tokens=20, early_stopping=True)\n",
    "tokenizer.batch_decode(out)"
   ]
  },
  {
   "attachments": {},
   "cell_type": "markdown",
   "metadata": {},
   "source": [
    "## LD"
   ]
  },
  {
   "cell_type": "code",
   "execution_count": null,
   "metadata": {},
   "outputs": [],
   "source": [
    "args = Namespace(num_iters=250,\n",
    "                 max_length=20,\n",
    "                 topk=5,\n",
    "                 gamma=0,\n",
    "                 min_stepsize=0.1,\n",
    "                 stepsize=0.45,\n",
    "                 quantize_embeds=True,\n",
    "                 quantize_every=1,\n",
    "                 stepsize_iters=1000,\n",
    "                 stepsize_ratio=1,\n",
    "                 grad_clip=0,\n",
    "                 warmup_steps=40,\n",
    "                 noise_iters=1,\n",
    "                 noise_scheduler='geometric',\n",
    "                 large_noise_iters=\"50,500,1000,1500\",\n",
    "                 large_gs_std=\"1,0.5,0.1,0.05\",\n",
    "                 gs_std=0.01)\n",
    "\n",
    "\n",
    "\n",
    "input_ids = torch.randint(0, len(tokenizer) - 1, size=(1, 20)).to(device)\n",
    "inputs_embeds = model.get_input_embeddings()(input_ids).detach()\n",
    "# input_logits = torch.rand([1, 30, model.config.vocab_size]).to(device)\n",
    "\n",
    "# contexts\n",
    "# instruction = \"In this task, you're given the beginning and the ending of a three-part story. Your job is to complete the short story by writing a middle sentence that seamlessly connects  the first and last sentence. Generated sentences must be short, have fewer than 10 words, and be simple as if narrating to a child. Avoid using any irrelevant extra information when creating the middle sentence, and use names (e.g. Jack, Barbara,...) instead of pronouns (e.g. he / she) wherever possible.\"\n",
    "\n",
    "# example = \"Beginning: Ray drive his car on a steep mountain road. Ending: Ray was fine but his car was totaled.\"\n",
    "# left_context_ids = tokenizer(f\"{instruction}\\n{example}\", return_tensors='pt').input_ids.to(device)\n",
    "\n",
    "left_context_ids = tokenizer(\"The movie\", return_tensors='pt').input_ids.to(device)\n",
    "\n",
    "embed, history = langevin_optimize(model,\n",
    "                                   inputs_embeds,\n",
    "                                   args,\n",
    "                                    {'embedding_fluency': [embedding_fluency_constraint, \n",
    "                                                 dict(left_context_ids=left_context_ids,\n",
    "                                                      is_encoder_decoder=is_encoder_decoder,\n",
    "                                                      target_ids=input_ids)],\n",
    "                                    #  'attr_control': [emb_attr_control_constraint,\n",
    "                                    #                   dict(left_context_ids=left_context_ids,\n",
    "                                    #                   is_encoder_decoder=is_encoder_decoder,\n",
    "                                    #                   attribute_class_idx=1)]  # positive\n",
    "                                     },\n",
    "                                   # {'simplex_fluency': [simplex_fluency_constraint, \n",
    "                                   #                dict(left_context_ids=left_context_ids,\n",
    "                                   #                     is_encoder_decoder=is_encoder_decoder)],\n",
    "                                   # },\n",
    "                                   (0.5, 0.5),\n",
    "                                   device=device)"
   ]
  },
  {
   "cell_type": "code",
   "execution_count": 78,
   "metadata": {},
   "outputs": [
    {
     "data": {
      "text/plain": [
       "Text(0.5, 1.0, 'lr')"
      ]
     },
     "execution_count": 78,
     "metadata": {},
     "output_type": "execute_result"
    },
    {
     "data": {
      "image/png": "[encoded data removed]",
      "text/plain": [
       "<Figure size 640x480 with 3 Axes>"
      ]
     },
     "metadata": {},
     "output_type": "display_data"
    }
   ],
   "source": [
    "import matplotlib.pyplot as plt\n",
    "\n",
    "plt.subplot(2, 2, 1)\n",
    "plt.plot(history['energy'], label='energy')\n",
    "plt.title('energy')\n",
    "plt.subplot(2, 2, 2)\n",
    "plt.plot(history['gradient'], label='grad')\n",
    "plt.title('grad')\n",
    "plt.subplot(2, 2, 3)\n",
    "plt.plot(history['lr'], label='lr')\n",
    "plt.title('lr')\n",
    "# plt.legend()"
   ]
  },
  {
   "cell_type": "code",
   "execution_count": 79,
   "metadata": {},
   "outputs": [
    {
     "data": {
      "text/plain": [
       "' was a huge commercial success, and was also a huge success in the media. People who were in'"
      ]
     },
     "execution_count": 79,
     "metadata": {},
     "output_type": "execute_result"
    }
   ],
   "source": [
    "quantized_ids, _ = embedding_quantization(model.get_input_embeddings(), embed)\n",
    "# quantized_ids = embed.argmax(-1)\n",
    "\n",
    "tokenizer.batch_decode(quantized_ids, skip_special_tokens=False)[0].replace('\\xa0', ' ')"
   ]
  },
  {
   "cell_type": "code",
   "execution_count": 70,
   "metadata": {},
   "outputs": [
    {
     "data": {
      "text/plain": [
       "'The potato is one of the most important crops in the world. It is also one of the most important crops in the United States.\\n\\nThe potato is one of the most important crops in the world. It is also one of the most important crops in the United States.\\n\\nThe potato is one of the most important crops in the world. It is also one of the most important crops in the United States.\\n\\nThe potato is one of the most important crops in the world. It is'"
      ]
     },
     "execution_count": 70,
     "metadata": {},
     "output_type": "execute_result"
    }
   ],
   "source": [
    "tokenizer.batch_decode(model.generate(input_ids=left_context_ids, num_beams=5, max_new_tokens=100))[0].replace('\\xa0', ' ')"
   ]
  },
  {
   "attachments": {},
   "cell_type": "markdown",
   "metadata": {},
   "source": [
    "## Previous Exp"
   ]
  },
  {
   "cell_type": "code",
   "execution_count": null,
   "metadata": {},
   "outputs": [],
   "source": [
    "# knowledge_sents = [\n",
    "#     \"Lionel Andrés Messi was born in 24 June 1987.\",\n",
    "#     \"Lionel Andrés Messi is also known as Leo Messi.\",\n",
    "#     \"Lionel Andrés Messi is an Argentine professional footballer who plays as a forward for Ligue 1 club Paris Saint-Germain and captains the Argentina national team.\",\n",
    "#     \"Widely regarded as one of the greatest players of all time, Messi has won a record seven Ballon d'Or awards,[note 2] a record six European Golden Shoes, and in 2020 was named to the Ballon d'Or Dream Team.\",\n",
    "#     # \"Until leaving the club in 2021, Lionel Messi had spent his entire professional career with Barcelona, where he won a club-record 35 trophies, including 10 La Liga titles, seven Copa del Rey titles and four UEFA Champions Leagues.\",\n",
    "#     \"With his country, Messi won the 2021 Copa América and the 2022 FIFA World Cup.\",\n",
    "#     # \"A prolific goalscorer and creative playmaker, Messi holds the records for most goals in La Liga (474), most hat-tricks in La Liga (36) and the UEFA Champions League (8), and most assists in La Liga (192) and the Copa América (17).\",\n",
    "#     \"Messi has the most international goals by a South American male (98).\",\n",
    "#     # \"Messi has scored over 790 senior career goals for club and country, and has the most goals by a player for a single club (672).\"\n",
    "# ]\n",
    "# knowledge_ids = tokenizer(knowledge_sents,\n",
    "#                           return_tensors='pt',\n",
    "#                           padding=True).input_ids.to(device)\n",
    "\n",
    "#                         #   padding='max_length',\n",
    "#                         #   truncation=True,\n",
    "#                         #   max_length=20\n",
    "                        \n",
    "# dialog_sents = [\"Q: Who is your favorite soccer player? A: \"] * len(knowledge_sents)\n",
    "# dialog_ids = tokenizer(dialog_sents, return_tensors='pt', padding=True).input_ids.to(device)\n",
    "\n",
    "\n",
    "# optimize\n",
    "# prompt_ids, prompt_embed, bos_embed = init_prompt(model, tokenizer, num_prompts=20, prompt_len=20, device=device)\n",
    "\n",
    "# reference = model.generate(dialog_ids, num_beams=4, do_sample=True, top_p=0.9, max_new_tokens=20, output_scores=True, return_dict_in_generate=True)\n",
    "# ref_logits = reference.scores\n",
    "# ref_ids = reference.sequences\n",
    "\n",
    "# prompt_embed, energy_hist = langevin_optimize(model, \n",
    "#                                               prompt_embed, \n",
    "#                                               args, \n",
    "#                                               (knowledge_sent_mle, dialog_response_mle), \n",
    "#                                               (1, 0), \n",
    "#                                               ({'teacher_force': True, \n",
    "#                                                 'prompt_ids': prompt_ids,\n",
    "#                                                 'knowledge_ids': knowledge_ids},\n",
    "#                                                {'teacher_force': True, \n",
    "#                                                 'prompt_ids': prompt_ids,\n",
    "#                                                 'context_ids': dialog_ids,\n",
    "#                                                 'ref_ids': ref_ids}), \n",
    "#                                               device=device)"
   ]
  },
  {
   "cell_type": "code",
   "execution_count": 28,
   "metadata": {},
   "outputs": [
    {
     "name": "stdout",
     "output_type": "stream",
     "text": [
      "Widely regarded as one of the greatest players of all time, Messi has won five La Liga titles\n"
     ]
    }
   ],
   "source": [
    "generated = generate_from_prompt(model, \n",
    "                                 prompt_embed,\n",
    "                                 max_new_tokens=20,\n",
    "                                 topk=5)[0]\n",
    "\n",
    "# generated = model.generate(input_ids=prompt_ids, max_new_tokens=30, top_k=5)\n",
    "print(tokenizer.batch_decode(generated, skip_special_tokens=False)[0])\n"
   ]
  }
 ],
 "metadata": {
  "kernelspec": {
   "display_name": "Python 3.9.13 ('expert')",
   "language": "python",
   "name": "python3"
  },
  "language_info": {
   "codemirror_mode": {
    "name": "ipython",
    "version": 3
   },
   "file_extension": ".py",
   "mimetype": "text/x-python",
   "name": "python",
   "nbconvert_exporter": "python",
   "pygments_lexer": "ipython3",
   "version": "3.9.13"
  },
  "orig_nbformat": 4,
  "vscode": {
   "interpreter": {
    "hash": "6560a280b5bac79d1a7ad11235d3d0c851ac92e5734a5260216846e2f311d197"
   }
  }
 },
 "nbformat": 4,
 "nbformat_minor": 2
}
